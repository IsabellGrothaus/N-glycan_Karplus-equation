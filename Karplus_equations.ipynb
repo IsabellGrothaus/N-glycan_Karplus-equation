{
 "cells": [
  {
   "cell_type": "code",
   "execution_count": 4,
   "id": "bizarre-transsexual",
   "metadata": {},
   "outputs": [],
   "source": [
    "import numpy as np\n",
    "from numpy import sin, cos\n",
    "import math\n",
    "import plumed\n",
    "import pandas as pd"
   ]
  },
  {
   "cell_type": "code",
   "execution_count": 5,
   "id": "portuguese-butler",
   "metadata": {},
   "outputs": [],
   "source": [
    "def calc_jj56(w):\n",
    "    AH56 = 13.22*cos(w)**2-(-0.99)*cos(w)+1.3*(0.87+(-2.46)*cos(-1*w+19.9*abs(1.3))**2)+1.3*(0.87+(-2.46)*cos(1*w+19.9*abs(1.3))**2)+0.4*(0.87+(-2.46)*cos(1*w+19.9*abs(0.4))**2)\n",
    "    \n",
    "    return AH56\n",
    "\n",
    "def calc_jj56p(w):\n",
    "    AH56P = 13.22*cos(w)**2-(-0.99)*cos(w)+1.3*(0.87+(-2.46)*cos(-1*w+19.9*abs(1.3))**2)+1.3*(0.87+(-2.46)*cos(-1*w+19.9*abs(1.3))**2)+0.4*(0.87+(-2.46)*cos(1*w+19.9*abs(0.4))**2)\n",
    "    \n",
    "    return AH56P"
   ]
  },
  {
   "cell_type": "markdown",
   "id": "optical-mountain",
   "metadata": {},
   "source": [
    "## Preparation of angle values for J-coupling calculations"
   ]
  },
  {
   "cell_type": "code",
   "execution_count": 7,
   "id": "mexican-bumper",
   "metadata": {},
   "outputs": [
    {
     "name": "stderr",
     "output_type": "stream",
     "text": [
      "<ipython-input-7-964507ea4998>:3: UserWarning: cannot load PLUMED instance, conversions will not be available\n",
      "  df = plumed.read_as_pandas(\"06_REST_RECT_12R_310-800_gt_500ns/COLVAR_NMR\")\n"
     ]
    },
    {
     "name": "stdout",
     "output_type": "stream",
     "text": [
      "The fraction of the different clusters are: gt= 34.56 % tg= 0.22 % gg= 65.21 %\n"
     ]
    }
   ],
   "source": [
    "# Loading of torsion angle information \n",
    "features = ['omega3_8','J56','J56P']\n",
    "df = plumed.read_as_pandas(\"06_REST_RECT_12R_310-800_gt_500ns/COLVAR_NMR\")\n",
    "df = df[features]\n",
    "\n",
    "# Grouping of angles into clusters gg, gt, tg\n",
    "\n",
    "gt = df[(df['omega3_8'] > 0) & (df['omega3_8'] < 2.0944)]\n",
    "gt_mean = gt['omega3_8'].mean()\n",
    "tg = df[(df['omega3_8'] > 2.0944) & (df['omega3_8'] < 3.14159) | (df['omega3_8'] > -3.14159) & (df['omega3_8'] < -2.0944)]\n",
    "tg_mean = tg['omega3_8'].mean()\n",
    "gg = df[(df['omega3_8'] < 0) & (df['omega3_8'] > - 2.0944)]\n",
    "gg_mean = gg['omega3_8'].mean()\n",
    "\n",
    "# Computing the fraction of each cluster\n",
    "\n",
    "total = len(gt)+len(tg)+len(gg)\n",
    "gt_fraction = len(gt)/total*100\n",
    "tg_fraction = len(tg)/total*100\n",
    "gg_fraction = len(gg)/total*100\n",
    "\n",
    "print(\"The fraction of the different clusters are:\", \"gt=\" ,\"%.2f\" % gt_fraction,\"%\", \"tg=\" ,\"%.2f\" % tg_fraction,\"%\", \"gg=\" ,\"%.2f\" % gg_fraction,\"%\")"
   ]
  },
  {
   "cell_type": "markdown",
   "id": "undefined-chaos",
   "metadata": {},
   "source": [
    "## J-coupling calculations for each cluster"
   ]
  },
  {
   "cell_type": "code",
   "execution_count": 8,
   "id": "satisfied-california",
   "metadata": {},
   "outputs": [
    {
     "name": "stdout",
     "output_type": "stream",
     "text": [
      "The J-coupling value for gg is: 2.17 ± 1.93\n",
      "The J-coupling value for gt is: 2.63 ± 2.07\n",
      "The J-coupling value for tg is: 10.77 ± 0.87\n",
      "2.35 ± 1.98\n"
     ]
    }
   ],
   "source": [
    "gg_np = gg['J56'].to_numpy()\n",
    "gg_JJ = np.zeros([len(gg)])\n",
    "\n",
    "for i in range(len(gg)):\n",
    "    gg_JJ[i] = calc_jj56(gg_np[i])\n",
    "    \n",
    "print(\"The J-coupling value for gg is:\" , \"%.2f\" % gg_JJ.mean(), \"±\", \"%.2f\" % np.std(gg_JJ))\n",
    "\n",
    "gt_np = gt['J56'].to_numpy()\n",
    "gt_JJ = np.zeros([len(gt)])\n",
    "\n",
    "for i in range(len(gt)):\n",
    "    gt_JJ[i] = calc_jj56(gt_np[i])\n",
    "\n",
    "print(\"The J-coupling value for gt is:\", \"%.2f\" % gt_JJ.mean(), \"±\", \"%.2f\" % np.std(gt_JJ))\n",
    "\n",
    "tg_np = tg['J56'].to_numpy()\n",
    "tg_JJ = np.zeros([len(tg)])\n",
    "\n",
    "for i in range(len(tg)):\n",
    "    tg_JJ[i] = calc_jj56(tg_np[i])\n",
    "    \n",
    "print(\"The J-coupling value for tg is:\", \"%.2f\" % tg_JJ.mean(), \"±\", \"%.2f\" % np.std(tg_JJ))\n",
    "\n",
    "JJ56 = (gt_fraction/100 * gt_JJ.mean()) + (gg_fraction/100 * gg_JJ.mean()) + (tg_fraction/100 * tg_JJ.mean())\n",
    "JJ56_std = (gt_fraction/100 * np.std(gt_JJ)) + (gg_fraction/100 * np.std(gg_JJ)) + (tg_fraction/100 * np.std(tg_JJ))\n",
    "print(\"%.2f\" % JJ56, \"±\", \"%.2f\" % JJ56_std)"
   ]
  },
  {
   "cell_type": "code",
   "execution_count": 9,
   "id": "brutal-aviation",
   "metadata": {},
   "outputs": [
    {
     "name": "stdout",
     "output_type": "stream",
     "text": [
      "The J-coupling value for gg is: 1.12 ± 2.02\n",
      "The J-coupling value for gt is: 11.01 ± 1.23\n",
      "The J-coupling value for tg is: 4.97 ± 2.91\n",
      "4.55 ± 1.75\n"
     ]
    }
   ],
   "source": [
    "gg_np = gg['J56P'].to_numpy()\n",
    "gg_JJ = np.zeros([len(gg)])\n",
    "\n",
    "for i in range(len(gg)):\n",
    "    gg_JJ[i] = calc_jj56p(gg_np[i])\n",
    "    \n",
    "print(\"The J-coupling value for gg is:\" , \"%.2f\" % gg_JJ.mean(), \"±\", \"%.2f\" % np.std(gg_JJ))\n",
    "\n",
    "gt_np = gt['J56P'].to_numpy()\n",
    "gt_JJ = np.zeros([len(gt)])\n",
    "\n",
    "for i in range(len(gt)):\n",
    "    gt_JJ[i] = calc_jj56p(gt_np[i])\n",
    "\n",
    "print(\"The J-coupling value for gt is:\", \"%.2f\" % gt_JJ.mean(), \"±\", \"%.2f\" % np.std(gt_JJ))\n",
    "\n",
    "tg_np = tg['J56P'].to_numpy()\n",
    "tg_JJ = np.zeros([len(tg)])\n",
    "\n",
    "for i in range(len(tg)):\n",
    "    tg_JJ[i] = calc_jj56p(tg_np[i])\n",
    "    \n",
    "print(\"The J-coupling value for tg is:\", \"%.2f\" % tg_JJ.mean(), \"±\", \"%.2f\" % np.std(tg_JJ))\n",
    "\n",
    "JJ56P = (gt_fraction/100 * gt_JJ.mean()) + (gg_fraction/100 * gg_JJ.mean()) + (tg_fraction/100 * tg_JJ.mean())\n",
    "JJ56P_std = (gt_fraction/100 * np.std(gt_JJ)) + (gg_fraction/100 * np.std(gg_JJ)) + (tg_fraction/100 * np.std(tg_JJ))\n",
    "print(\"%.2f\" % JJ56P, \"±\", \"%.2f\" % JJ56P_std)"
   ]
  },
  {
   "cell_type": "code",
   "execution_count": 10,
   "id": "married-youth",
   "metadata": {},
   "outputs": [
    {
     "name": "stderr",
     "output_type": "stream",
     "text": [
      "<ipython-input-10-c74717e5fe22>:4: UserWarning: cannot load PLUMED instance, conversions will not be available\n",
      "  df = plumed.read_as_pandas(\"07_REST_RECT_12R_310-800K_gg_500ns/COLVAR_NMR\")\n"
     ]
    },
    {
     "name": "stdout",
     "output_type": "stream",
     "text": [
      "The fraction of the different clusters are: gt= 42.00 % tg= 0.22 % gg= 57.78 %\n"
     ]
    }
   ],
   "source": [
    "# Loading of torsion angle information \n",
    "\n",
    "features = ['omega3_8','J56','J56P']\n",
    "df = plumed.read_as_pandas(\"07_REST_RECT_12R_310-800K_gg_500ns/COLVAR_NMR\")\n",
    "df = df[features]\n",
    "\n",
    "# Grouping of angles into clusters gg, gt, tg\n",
    "\n",
    "gt = df[(df['omega3_8'] > 0) & (df['omega3_8'] < 2.0944)]\n",
    "gt_mean = gt['omega3_8'].mean()\n",
    "tg = df[(df['omega3_8'] > 2.0944) & (df['omega3_8'] < 3.14159) | (df['omega3_8'] > -3.14159) & (df['omega3_8'] < -2.0944)]\n",
    "tg_mean = tg['omega3_8'].mean()\n",
    "gg = df[(df['omega3_8'] < 0) & (df['omega3_8'] > - 2.0944)]\n",
    "gg_mean = gg['omega3_8'].mean()\n",
    "\n",
    "# Computing the fraction of each cluster\n",
    "\n",
    "total = len(gt)+len(tg)+len(gg)\n",
    "gt_fraction = len(gt)/total*100\n",
    "tg_fraction = len(tg)/total*100\n",
    "gg_fraction = len(gg)/total*100\n",
    "\n",
    "print(\"The fraction of the different clusters are:\", \"gt=\" ,\"%.2f\" % gt_fraction,\"%\", \"tg=\" ,\"%.2f\" % tg_fraction,\"%\", \"gg=\" ,\"%.2f\" % gg_fraction,\"%\")"
   ]
  },
  {
   "cell_type": "code",
   "execution_count": 11,
   "id": "working-petersburg",
   "metadata": {},
   "outputs": [
    {
     "name": "stdout",
     "output_type": "stream",
     "text": [
      "The J-coupling value for gg is: 2.25 ± 1.91\n",
      "The J-coupling value for gt is: 2.55 ± 2.06\n",
      "The J-coupling value for tg is: 10.79 ± 0.64\n",
      "2.40 ± 1.97\n"
     ]
    }
   ],
   "source": [
    "gg_np = gg['J56'].to_numpy()\n",
    "gg_JJ = np.zeros([len(gg)])\n",
    "\n",
    "for i in range(len(gg)):\n",
    "    gg_JJ[i] = calc_jj56(gg_np[i])\n",
    "    \n",
    "print(\"The J-coupling value for gg is:\" , \"%.2f\" % gg_JJ.mean(), \"±\", \"%.2f\" % np.std(gg_JJ))\n",
    "\n",
    "gt_np = gt['J56'].to_numpy()\n",
    "gt_JJ = np.zeros([len(gt)])\n",
    "\n",
    "for i in range(len(gt)):\n",
    "    gt_JJ[i] = calc_jj56(gt_np[i])\n",
    "\n",
    "print(\"The J-coupling value for gt is:\", \"%.2f\" % gt_JJ.mean(), \"±\", \"%.2f\" % np.std(gt_JJ))\n",
    "\n",
    "tg_np = tg['J56'].to_numpy()\n",
    "tg_JJ = np.zeros([len(tg)])\n",
    "\n",
    "for i in range(len(tg)):\n",
    "    tg_JJ[i] = calc_jj56(tg_np[i])\n",
    "    \n",
    "print(\"The J-coupling value for tg is:\", \"%.2f\" % tg_JJ.mean(), \"±\", \"%.2f\" % np.std(tg_JJ))\n",
    "\n",
    "JJ56 = (gt_fraction/100 * gt_JJ.mean()) + (gg_fraction/100 * gg_JJ.mean()) + (tg_fraction/100 * tg_JJ.mean())\n",
    "JJ56_std = (gt_fraction/100 * np.std(gt_JJ)) + (gg_fraction/100 * np.std(gg_JJ)) + (tg_fraction/100 * np.std(tg_JJ))\n",
    "print(\"%.2f\" % JJ56, \"±\", \"%.2f\" % JJ56_std)"
   ]
  },
  {
   "cell_type": "code",
   "execution_count": 12,
   "id": "worse-boring",
   "metadata": {},
   "outputs": [
    {
     "name": "stdout",
     "output_type": "stream",
     "text": [
      "The J-coupling value for gg is: 0.99 ± 1.93\n",
      "The J-coupling value for gt is: 10.97 ± 1.26\n",
      "The J-coupling value for tg is: 4.90 ± 2.99\n",
      "5.19 ± 1.65\n"
     ]
    }
   ],
   "source": [
    "gg_np = gg['J56P'].to_numpy()\n",
    "gg_JJ = np.zeros([len(gg)])\n",
    "\n",
    "for i in range(len(gg)):\n",
    "    gg_JJ[i] = calc_jj56p(gg_np[i])\n",
    "    \n",
    "print(\"The J-coupling value for gg is:\" , \"%.2f\" % gg_JJ.mean(), \"±\", \"%.2f\" % np.std(gg_JJ))\n",
    "\n",
    "gt_np = gt['J56P'].to_numpy()\n",
    "gt_JJ = np.zeros([len(gt)])\n",
    "\n",
    "for i in range(len(gt)):\n",
    "    gt_JJ[i] = calc_jj56p(gt_np[i])\n",
    "\n",
    "print(\"The J-coupling value for gt is:\", \"%.2f\" % gt_JJ.mean(), \"±\", \"%.2f\" % np.std(gt_JJ))\n",
    "\n",
    "tg_np = tg['J56P'].to_numpy()\n",
    "tg_JJ = np.zeros([len(tg)])\n",
    "\n",
    "for i in range(len(tg)):\n",
    "    tg_JJ[i] = calc_jj56p(tg_np[i])\n",
    "    \n",
    "print(\"The J-coupling value for tg is:\", \"%.2f\" % tg_JJ.mean(), \"±\", \"%.2f\" % np.std(tg_JJ))\n",
    "\n",
    "JJ56P = (gt_fraction/100 * gt_JJ.mean()) + (gg_fraction/100 * gg_JJ.mean()) + (tg_fraction/100 * tg_JJ.mean())\n",
    "JJ56P_std = (gt_fraction/100 * np.std(gt_JJ)) + (gg_fraction/100 * np.std(gg_JJ)) + (tg_fraction/100 * np.std(tg_JJ))\n",
    "print(\"%.2f\" % JJ56P, \"±\", \"%.2f\" % JJ56P_std)"
   ]
  },
  {
   "cell_type": "code",
   "execution_count": null,
   "id": "invisible-sussex",
   "metadata": {},
   "outputs": [],
   "source": []
  }
 ],
 "metadata": {
  "kernelspec": {
   "display_name": "Python 3",
   "language": "python",
   "name": "python3"
  },
  "language_info": {
   "codemirror_mode": {
    "name": "ipython",
    "version": 3
   },
   "file_extension": ".py",
   "mimetype": "text/x-python",
   "name": "python",
   "nbconvert_exporter": "python",
   "pygments_lexer": "ipython3",
   "version": "3.8.5"
  }
 },
 "nbformat": 4,
 "nbformat_minor": 5
}
